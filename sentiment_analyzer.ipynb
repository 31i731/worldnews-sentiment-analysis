{
 "cells": [
  {
   "cell_type": "code",
   "execution_count": 2,
   "id": "6e2a3b67-549c-4ce8-957d-d8f3e8a72d77",
   "metadata": {},
   "outputs": [
    {
     "name": "stdout",
     "output_type": "stream",
     "text": [
      "[PhysicalDevice(name='/physical_device:GPU:0', device_type='GPU')]\n",
      "2.18.0\n"
     ]
    }
   ],
   "source": [
    "import tensorflow as tf\n",
    "\n",
    "print(tf.config.list_physical_devices('GPU'))\n",
    "\n",
    "print(tf.__version__)"
   ]
  },
  {
   "cell_type": "markdown",
   "id": "d6216821-002c-4c40-be6a-4e287daba815",
   "metadata": {},
   "source": [
    "## Reading the data"
   ]
  },
  {
   "cell_type": "code",
   "execution_count": null,
   "id": "95c5db80-a86c-40b3-9dc7-d11462c78ea5",
   "metadata": {},
   "outputs": [],
   "source": [
    "import pandas as pd"
   ]
  },
  {
   "cell_type": "markdown",
   "id": "a13e3572-4617-44f7-a039-fb596997ac22",
   "metadata": {},
   "source": [
    "### Currently data scraped on 6rd of Jan"
   ]
  },
  {
   "cell_type": "code",
   "execution_count": 4,
   "id": "74ddcf23-7bec-4716-94a0-c892234fc8dd",
   "metadata": {},
   "outputs": [],
   "source": [
    "file_path = 'weekly_dataset/top_reddit_posts_week.csv'"
   ]
  },
  {
   "cell_type": "code",
   "execution_count": 5,
   "id": "c853e5ff-3497-4b30-aeb3-c12577add3ca",
   "metadata": {},
   "outputs": [
    {
     "name": "stdout",
     "output_type": "stream",
     "text": [
      "   Unnamed: 0                                              Title  \\\n",
      "0           0  For those who think the billionaire Soros is s...   \n",
      "1           1  What is the weirdest fetish one of your exes h...   \n",
      "2           2  Ladies, what is your butt vs boobs equivalent ...   \n",
      "3           3  If you have ever felt disgusted by a partner y...   \n",
      "4           4  Left handed people - what in the world just do...   \n",
      "\n",
      "                 Author  Subreddit  Score  \\\n",
      "0          funkymunkPDX  AskReddit  19037   \n",
      "1             astroray_  AskReddit   9705   \n",
      "2             Epicarest  AskReddit   9385   \n",
      "3  Negative_Anything_77  AskReddit   9067   \n",
      "4   father-fluffybottom  AskReddit   8793   \n",
      "\n",
      "                                           Permalink  Creation Time  \\\n",
      "0  /r/AskReddit/comments/1htdpiu/for_those_who_th...   1.735995e+09   \n",
      "1  /r/AskReddit/comments/1hrm1ou/what_is_the_weir...   1.735794e+09   \n",
      "2  /r/AskReddit/comments/1htlovo/ladies_what_is_y...   1.736018e+09   \n",
      "3  /r/AskReddit/comments/1hqf70t/if_you_have_ever...   1.735653e+09   \n",
      "4  /r/AskReddit/comments/1hpjwjf/left_handed_peop...   1.735552e+09   \n",
      "\n",
      "   Number of Comments  Upvote Ratio  \\\n",
      "0                2371          0.88   \n",
      "1                8905          0.90   \n",
      "2                4439          0.87   \n",
      "3                9915          0.91   \n",
      "4                6789          0.95   \n",
      "\n",
      "                                                 URL  Post ID  \\\n",
      "0  https://www.reddit.com/r/AskReddit/comments/1h...  1htdpiu   \n",
      "1  https://www.reddit.com/r/AskReddit/comments/1h...  1hrm1ou   \n",
      "2  https://www.reddit.com/r/AskReddit/comments/1h...  1htlovo   \n",
      "3  https://www.reddit.com/r/AskReddit/comments/1h...  1hqf70t   \n",
      "4  https://www.reddit.com/r/AskReddit/comments/1h...  1hpjwjf   \n",
      "\n",
      "   Is Original Content Flair  \\\n",
      "0                False   NaN   \n",
      "1                False   NaN   \n",
      "2                False   NaN   \n",
      "3                False   NaN   \n",
      "4                False   NaN   \n",
      "\n",
      "                                            Comments  \n",
      "0  [{'Comment ID': 'm5codca', 'Comment Author': '...  \n",
      "1  [{'Comment ID': 'm4zcm74', 'Comment Author': '...  \n",
      "2  [{'Comment ID': 'm5ecdav', 'Comment Author': '...  \n",
      "3  [{'Comment ID': 'm4qo62a', 'Comment Author': '...  \n",
      "4  [{'Comment ID': 'm4iizhc', 'Comment Author': '...  \n",
      "<class 'pandas.core.frame.DataFrame'>\n",
      "RangeIndex: 250 entries, 0 to 249\n",
      "Data columns (total 14 columns):\n",
      " #   Column               Non-Null Count  Dtype  \n",
      "---  ------               --------------  -----  \n",
      " 0   Unnamed: 0           250 non-null    int64  \n",
      " 1   Title                250 non-null    object \n",
      " 2   Author               250 non-null    object \n",
      " 3   Subreddit            250 non-null    object \n",
      " 4   Score                250 non-null    int64  \n",
      " 5   Permalink            250 non-null    object \n",
      " 6   Creation Time        250 non-null    float64\n",
      " 7   Number of Comments   250 non-null    int64  \n",
      " 8   Upvote Ratio         250 non-null    float64\n",
      " 9   URL                  250 non-null    object \n",
      " 10  Post ID              250 non-null    object \n",
      " 11  Is Original Content  250 non-null    bool   \n",
      " 12  Flair                143 non-null    object \n",
      " 13  Comments             250 non-null    object \n",
      "dtypes: bool(1), float64(2), int64(3), object(8)\n",
      "memory usage: 25.8+ KB\n",
      "None\n"
     ]
    }
   ],
   "source": [
    "df = pd.read_csv(file_path)\n",
    "\n",
    "print(df.head())\n",
    "print(df.info())"
   ]
  },
  {
   "cell_type": "code",
   "execution_count": 6,
   "id": "9e66940e-3a44-4f1a-83b6-f91ba08128bd",
   "metadata": {},
   "outputs": [
    {
     "name": "stdout",
     "output_type": "stream",
     "text": [
      "Missing values:\n",
      " Unnamed: 0               0\n",
      "Title                    0\n",
      "Author                   0\n",
      "Subreddit                0\n",
      "Score                    0\n",
      "Permalink                0\n",
      "Creation Time            0\n",
      "Number of Comments       0\n",
      "Upvote Ratio             0\n",
      "URL                      0\n",
      "Post ID                  0\n",
      "Is Original Content      0\n",
      "Flair                  107\n",
      "Comments                 0\n",
      "dtype: int64\n",
      "Dataset shape: (250, 14)\n",
      "Sample titles:\n",
      " 0    For those who think the billionaire Soros is s...\n",
      "1    What is the weirdest fetish one of your exes h...\n",
      "2    Ladies, what is your butt vs boobs equivalent ...\n",
      "3    If you have ever felt disgusted by a partner y...\n",
      "4    Left handed people - what in the world just do...\n",
      "Name: Title, dtype: object\n"
     ]
    }
   ],
   "source": [
    "print(\"Missing values:\\n\", df.isnull().sum())\n",
    "print(\"Dataset shape:\", df.shape)\n",
    "print(\"Sample titles:\\n\", df['Title'].head())"
   ]
  },
  {
   "cell_type": "markdown",
   "id": "1343e3d8-a876-4ecb-9f81-70a1a211c65f",
   "metadata": {},
   "source": [
    "## Filtering the important columns"
   ]
  },
  {
   "cell_type": "code",
   "execution_count": 7,
   "id": "48f1d0d9-137b-4792-9daf-8aeae78c8b37",
   "metadata": {},
   "outputs": [
    {
     "name": "stdout",
     "output_type": "stream",
     "text": [
      "                                               Title  Score  \\\n",
      "0  For those who think the billionaire Soros is s...  19037   \n",
      "1  What is the weirdest fetish one of your exes h...   9705   \n",
      "2  Ladies, what is your butt vs boobs equivalent ...   9385   \n",
      "3  If you have ever felt disgusted by a partner y...   9067   \n",
      "4  Left handed people - what in the world just do...   8793   \n",
      "\n",
      "                                            Comments  Subreddit  \n",
      "0  [{'Comment ID': 'm5codca', 'Comment Author': '...  AskReddit  \n",
      "1  [{'Comment ID': 'm4zcm74', 'Comment Author': '...  AskReddit  \n",
      "2  [{'Comment ID': 'm5ecdav', 'Comment Author': '...  AskReddit  \n",
      "3  [{'Comment ID': 'm4qo62a', 'Comment Author': '...  AskReddit  \n",
      "4  [{'Comment ID': 'm4iizhc', 'Comment Author': '...  AskReddit  \n"
     ]
    }
   ],
   "source": [
    "df = df[['Title', 'Score', 'Comments', 'Subreddit']]\n",
    "print(df.head())"
   ]
  },
  {
   "cell_type": "markdown",
   "id": "e5257b77-9656-4e31-95c6-ea354da4abbd",
   "metadata": {},
   "source": [
    "## Filtering the 'worldnews' subreddit posts"
   ]
  },
  {
   "cell_type": "code",
   "execution_count": 8,
   "id": "cc080792-d502-427a-ae5e-c2e809cfc4c1",
   "metadata": {},
   "outputs": [
    {
     "name": "stdout",
     "output_type": "stream",
     "text": [
      "                                                Title  Score  \\\n",
      "50  Server found in apartment funded by Russian go...  56881   \n",
      "51  BBC News - US Treasury says it was hacked by C...  29870   \n",
      "52  Berlin accuses Elon Musk of seeking to influen...  29548   \n",
      "53  Forbes: Elon Musk Pushes For Britain’s King Ch...  29453   \n",
      "54  ‘Shoot All the Locals’ – Russian Officer Order...  28186   \n",
      "\n",
      "                                             Comments  Subreddit  \n",
      "50  [{'Comment ID': 'm4t7iwx', 'Comment Author': '...  worldnews  \n",
      "51  [{'Comment ID': 'm4lhh3f', 'Comment Author': '...  worldnews  \n",
      "52  [{'Comment ID': 'm4is5dn', 'Comment Author': '...  worldnews  \n",
      "53  [{'Comment ID': 'm5hk91k', 'Comment Author': '...  worldnews  \n",
      "54  [{'Comment ID': 'm4vak1m', 'Comment Author': '...  worldnews  \n",
      "Filtered dataset size: (50, 4)\n"
     ]
    }
   ],
   "source": [
    "df_worldnews = df[df['Subreddit'] == 'worldnews']\n",
    "\n",
    "print(df_worldnews.head())\n",
    "print(\"Filtered dataset size:\", df_worldnews.shape)"
   ]
  },
  {
   "cell_type": "markdown",
   "id": "9cf46970-3bc4-4733-9674-87ecf6ad307e",
   "metadata": {},
   "source": [
    "### We will utilize the siebert/sentiment-roberta-large-english LLM from huggingface.co for sentiment analysis of comments across the posts."
   ]
  },
  {
   "cell_type": "code",
   "execution_count": 11,
   "id": "4be324e9-2db0-4f9d-a3c0-c29d6a02613f",
   "metadata": {},
   "outputs": [],
   "source": [
    "from transformers import pipeline"
   ]
  },
  {
   "cell_type": "code",
   "execution_count": 12,
   "id": "508eab38-255b-4e67-ba1b-ea35cfb1955b",
   "metadata": {},
   "outputs": [
    {
     "name": "stderr",
     "output_type": "stream",
     "text": [
      "I0000 00:00:1736163487.277197    1160 gpu_device.cc:2022] Created device /job:localhost/replica:0/task:0/device:GPU:0 with 3586 MB memory:  -> device: 0, name: NVIDIA GeForce RTX 3060 Laptop GPU, pci bus id: 0000:01:00.0, compute capability: 8.6\n",
      "All model checkpoint layers were used when initializing TFRobertaForSequenceClassification.\n",
      "\n",
      "All the layers of TFRobertaForSequenceClassification were initialized from the model checkpoint at siebert/sentiment-roberta-large-english.\n",
      "If your task is similar to the task the model of the checkpoint was trained on, you can already use TFRobertaForSequenceClassification for predictions without further training.\n",
      "Device set to use 0\n"
     ]
    }
   ],
   "source": [
    "sentiment_analysis = pipeline(\"sentiment-analysis\", model=\"siebert/sentiment-roberta-large-english\", \n",
    "                              tokenizer=\"siebert/sentiment-roberta-large-english\", truncation=True)"
   ]
  },
  {
   "cell_type": "code",
   "execution_count": 13,
   "id": "e8f4857a-8fcf-4a0c-b2d1-e3583ada54a4",
   "metadata": {},
   "outputs": [],
   "source": [
    "import re"
   ]
  },
  {
   "cell_type": "code",
   "execution_count": 14,
   "id": "bff63250-5bfe-4047-b70b-68f2f62ee4a0",
   "metadata": {},
   "outputs": [],
   "source": [
    "# Function to cleaning up the comments\n",
    "def preprocess_comment(comment):\n",
    "    # Remove URLs\n",
    "    comment = re.sub(r'http\\S+|www.\\S+', '', comment)\n",
    "    # Remove markdown formatting (e.g., \">quote\")\n",
    "    comment = re.sub(r'>', '', comment)\n",
    "    # Remove leftover \"Excerpt from [\" with or without closing brackets\n",
    "    comment = re.sub(r'Excerpt from \\[.*$', '', comment)\n",
    "    # Remove excessive whitespace\n",
    "    comment = re.sub(r'\\s+', ' ', comment).strip()\n",
    "    return comment"
   ]
  },
  {
   "cell_type": "markdown",
   "id": "257a3bf8-e989-4766-8084-b27c38c78233",
   "metadata": {},
   "source": [
    "### Sentiment analysis across the posts from 'worldnews' subreddit"
   ]
  },
  {
   "cell_type": "code",
   "execution_count": 16,
   "id": "ab4d0216-ce37-4251-949a-3e751fc11c7a",
   "metadata": {},
   "outputs": [],
   "source": [
    "import ast"
   ]
  },
  {
   "cell_type": "code",
   "execution_count": 17,
   "id": "5d019405-c4f2-4b6c-b554-770a3d42a88b",
   "metadata": {},
   "outputs": [],
   "source": [
    "def analyze_comments(row):\n",
    "    comments_list = ast.literal_eval(row['Comments'])\n",
    "    comment_texts = [preprocess_comment(comment['Comment Content']) for comment in comments_list]\n",
    "    results = sentiment_analysis(comment_texts)\n",
    "    for comment, sentiment in zip(comments_list, results):\n",
    "        comment['Sentiment'] = sentiment['label']\n",
    "    return str(comments_list)"
   ]
  },
  {
   "cell_type": "code",
   "execution_count": 18,
   "id": "a41b7044-ce28-41bb-843f-bdc95283218a",
   "metadata": {
    "scrolled": true
   },
   "outputs": [],
   "source": [
    "df_worldnews = df_worldnews.copy()  # Avoid SettingWithCopyWarning\n",
    "df_worldnews['Comments'] = df_worldnews.apply(analyze_comments, axis=1)"
   ]
  },
  {
   "cell_type": "markdown",
   "id": "ade1342e-02ae-4f5b-b168-6e2ebe49dca8",
   "metadata": {},
   "source": [
    "### Save the file for future analyses"
   ]
  },
  {
   "cell_type": "code",
   "execution_count": 23,
   "id": "27773411-38b3-4783-9349-091af1fb8fcf",
   "metadata": {
    "editable": true,
    "slideshow": {
     "slide_type": ""
    },
    "tags": []
   },
   "outputs": [],
   "source": [
    "output_file = \"df_worldnews_with_sentiment.csv\"\n",
    "df_worldnews.to_csv(output_file, index=False)"
   ]
  },
  {
   "cell_type": "markdown",
   "id": "22c12be1-975b-41ac-a718-1684b68e4053",
   "metadata": {},
   "source": [
    "### Sentiment distribution"
   ]
  },
  {
   "cell_type": "code",
   "execution_count": 26,
   "id": "a396f180-96f0-4a99-99d0-9f70c4de6195",
   "metadata": {},
   "outputs": [],
   "source": [
    "import matplotlib.pyplot as plt\n",
    "import seaborn as sns"
   ]
  },
  {
   "cell_type": "code",
   "execution_count": 27,
   "id": "740b4642-e9d9-4662-95eb-a8d00cc62dec",
   "metadata": {
    "editable": true,
    "slideshow": {
     "slide_type": ""
    },
    "tags": []
   },
   "outputs": [
    {
     "name": "stderr",
     "output_type": "stream",
     "text": [
      "/tmp/ipykernel_1160/2964240261.py:6: FutureWarning: \n",
      "\n",
      "Passing `palette` without assigning `hue` is deprecated and will be removed in v0.14.0. Assign the `x` variable to `hue` and set `legend=False` for the same effect.\n",
      "\n",
      "  sns.countplot(x=sentiment_counts_flat, palette='coolwarm')\n"
     ]
    },
    {
     "data": {
      "image/png": "[encoded data removed]",
      "text/plain": [
       "<Figure size 640x480 with 1 Axes>"
      ]
     },
     "metadata": {},
     "output_type": "display_data"
    }
   ],
   "source": [
    "# Count the occurrences of each sentiment\n",
    "sentiment_counts = df_worldnews['Comments'].apply(lambda x: [comment['Sentiment'] for comment in eval(x)])\n",
    "sentiment_counts_flat = [sent for sublist in sentiment_counts for sent in sublist]\n",
    "\n",
    "# Plot sentiment distribution\n",
    "sns.countplot(x=sentiment_counts_flat, palette='coolwarm')\n",
    "plt.title(\"Sentiment Distribution Across Comments\")\n",
    "plt.xlabel(\"Sentiment\")\n",
    "plt.ylabel(\"Count\")\n",
    "plt.show()"
   ]
  },
  {
   "cell_type": "markdown",
   "id": "c9b2195c-5b3b-4046-b7ff-bdcf03d175f9",
   "metadata": {},
   "source": [
    "### Sentiment by post"
   ]
  },
  {
   "cell_type": "code",
   "execution_count": 28,
   "id": "57055187-60c2-48c8-8669-1bff2cc004f2",
   "metadata": {
    "editable": true,
    "slideshow": {
     "slide_type": ""
    },
    "tags": []
   },
   "outputs": [],
   "source": [
    "def calculate_sentiment_ratio(comments):\n",
    "    comments = eval(comments)\n",
    "    sentiments = [comment['Sentiment'] for comment in comments]\n",
    "    positive_count = sentiments.count('POSITIVE')\n",
    "    total_count = len(sentiments)\n",
    "    return positive_count / total_count if total_count > 0 else 0"
   ]
  },
  {
   "cell_type": "code",
   "execution_count": 29,
   "id": "30d56de5-6883-46d8-96a7-194ef37526e6",
   "metadata": {},
   "outputs": [],
   "source": [
    "# Apply to calculate sentiment ratio for each post\n",
    "df_worldnews['Positive Sentiment Ratio'] = df_worldnews['Comments'].apply(calculate_sentiment_ratio)"
   ]
  },
  {
   "cell_type": "code",
   "execution_count": 30,
   "id": "0bc5c1e7-fb2d-4b34-96ab-5129d2f00256",
   "metadata": {},
   "outputs": [
    {
     "data": {
      "image/png": "[encoded data removed]",
      "text/plain": [
       "<Figure size 640x480 with 1 Axes>"
      ]
     },
     "metadata": {},
     "output_type": "display_data"
    }
   ],
   "source": [
    "# Visualize\n",
    "sns.histplot(df_worldnews['Positive Sentiment Ratio'], kde=True, bins=10, color='blue')\n",
    "plt.title(\"Distribution of Positive Sentiment Ratios Across Posts\")\n",
    "plt.xlabel(\"Positive Sentiment Ratio\")\n",
    "plt.ylabel(\"Frequency\")\n",
    "plt.show()"
   ]
  },
  {
   "cell_type": "markdown",
   "id": "a41fb422-5bdf-473c-bc71-a3790056816f",
   "metadata": {},
   "source": [
    "### Top 3 Positive and Negative Posts"
   ]
  },
  {
   "cell_type": "code",
   "execution_count": 34,
   "id": "00da173b-ef9e-4a21-807f-cd8fac37ee1f",
   "metadata": {},
   "outputs": [],
   "source": [
    "# Sort posts by positive sentiment ratio\n",
    "top_positive_posts = df_worldnews.sort_values(by='Positive Sentiment Ratio', ascending=False).head(3)\n",
    "top_negative_posts = df_worldnews.sort_values(by='Positive Sentiment Ratio', ascending=True).head(3)"
   ]
  },
  {
   "cell_type": "code",
   "execution_count": 32,
   "id": "09a4127e-3eb2-4ae3-9374-a2f55557a580",
   "metadata": {},
   "outputs": [],
   "source": [
    "# To allow full display of the titles\n",
    "pd.set_option('display.max_colwidth', None)"
   ]
  },
  {
   "cell_type": "code",
   "execution_count": 35,
   "id": "84dc9406-c20c-403d-8365-486d0c09b137",
   "metadata": {},
   "outputs": [
    {
     "name": "stdout",
     "output_type": "stream",
     "text": [
      "Top Positive Posts:\n",
      "                                                                                                Title  \\\n",
      "94                                 New Syrian gov't taps Druze woman as governor of southern province   \n",
      "81  500 tonnes of Ukrainian grain to arrive in Syria on 31 December as part of humanitarian programme   \n",
      "84             UAE mandates genetic testing for Emirati couples before marriage starting January 2025   \n",
      "\n",
      "    Positive Sentiment Ratio  \n",
      "94                  0.785714  \n",
      "81                  0.625000  \n",
      "84                  0.589744  \n",
      "\n",
      "Top Negative Posts:\n",
      "                                                                                                                     Title  \\\n",
      "92                                              Hamas refusing to release some hostages in Gaza deal negotiations - report   \n",
      "64                                                         UK Right Warns Trump Allies That Musk’s Posts Have Gone Too Far   \n",
      "53  Forbes: Elon Musk Pushes For Britain’s King Charles To Dissolve Parliament—As Lawmakers Say Tesla CEO Is ‘Misinformed’   \n",
      "\n",
      "    Positive Sentiment Ratio  \n",
      "92                  0.072727  \n",
      "64                  0.086957  \n",
      "53                  0.092199  \n"
     ]
    }
   ],
   "source": [
    "print(\"Top Positive Posts:\")\n",
    "print(top_positive_posts[['Title', 'Positive Sentiment Ratio']])\n",
    "\n",
    "print(\"\\nTop Negative Posts:\")\n",
    "print(top_negative_posts[['Title', 'Positive Sentiment Ratio']])"
   ]
  }
 ],
 "metadata": {
  "kernelspec": {
   "display_name": "Python 3 (ipykernel)",
   "language": "python",
   "name": "python3"
  },
  "language_info": {
   "codemirror_mode": {
    "name": "ipython",
    "version": 3
   },
   "file_extension": ".py",
   "mimetype": "text/x-python",
   "name": "python",
   "nbconvert_exporter": "python",
   "pygments_lexer": "ipython3",
   "version": "3.9.21"
  }
 },
 "nbformat": 4,
 "nbformat_minor": 5
}
